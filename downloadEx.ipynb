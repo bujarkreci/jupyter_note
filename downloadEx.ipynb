{
 "cells": [
  {
   "cell_type": "code",
   "execution_count": null,
   "id": "a5d95475",
   "metadata": {},
   "outputs": [],
   "source": [
    "import pandas as pd\n",
    "\n",
    "url = 'https://raw.githubusercontent.com/lukes/ISO-3166-Countries-with-Regional-Codes/master/all/all.csv'\n",
    "df = pd.read_csv(url, index_col=0)"
   ]
  },
  {
   "cell_type": "code",
   "execution_count": null,
   "id": "cbf1b3d9",
   "metadata": {},
   "outputs": [],
   "source": [
    "import random"
   ]
  },
  {
   "cell_type": "code",
   "execution_count": null,
   "id": "c6585344",
   "metadata": {},
   "outputs": [],
   "source": [
    "str(int(random.random()*10000)) + \"_df.csv\""
   ]
  },
  {
   "cell_type": "code",
   "execution_count": null,
   "id": "9f84af94",
   "metadata": {},
   "outputs": [],
   "source": [
    "file_name = str(int(random.random()*10000)) + \"_df.csv\""
   ]
  },
  {
   "cell_type": "code",
   "execution_count": null,
   "id": "40ef4b3c",
   "metadata": {},
   "outputs": [],
   "source": [
    "df.to_csv(file_name,index = False)"
   ]
  }
 ],
 "metadata": {
  "kernelspec": {
   "display_name": "Python 3 (ipykernel)",
   "language": "python",
   "name": "python3"
  },
  "language_info": {
   "codemirror_mode": {
    "name": "ipython",
    "version": 3
   },
   "file_extension": ".py",
   "mimetype": "text/x-python",
   "name": "python",
   "nbconvert_exporter": "python",
   "pygments_lexer": "ipython3",
   "version": "3.10.6"
  }
 },
 "nbformat": 4,
 "nbformat_minor": 5
}
